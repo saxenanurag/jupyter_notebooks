{
 "cells": [
  {
   "cell_type": "code",
   "execution_count": 4,
   "metadata": {
    "collapsed": true
   },
   "outputs": [],
   "source": [
    "import requests"
   ]
  },
  {
   "cell_type": "code",
   "execution_count": 38,
   "metadata": {
    "collapsed": false
   },
   "outputs": [
    {
     "data": {
      "text/plain": [
       "'<https://api.github.com/repositories/81598961/commits?page=2>; rel=\"next\", <https://api.github.com/repositories/81598961/commits?page=3297>; rel=\"last\"'"
      ]
     },
     "execution_count": 38,
     "metadata": {},
     "output_type": "execute_result"
    }
   ],
   "source": [
    "github_api_url = 'https://api.github.com/repos/python/cpython/commits'\n",
    "r = requests.get(github_api_url)\n",
    "r.headers\n",
    "link_str = r.headers['Link']\n",
    "link_str"
   ]
  },
  {
   "cell_type": "code",
   "execution_count": 40,
   "metadata": {
    "collapsed": false
   },
   "outputs": [
    {
     "data": {
      "text/plain": [
       "['<https://api.github.com/repositories/81598961/commits?page=2>; rel=\"next\"',\n",
       " '<https://api.github.com/repositories/81598961/commits?page=3297>; rel=\"last\"']"
      ]
     },
     "execution_count": 40,
     "metadata": {},
     "output_type": "execute_result"
    }
   ],
   "source": [
    "links = link_str.split(', ')\n",
    "links"
   ]
  },
  {
   "cell_type": "code",
   "execution_count": 81,
   "metadata": {
    "collapsed": false
   },
   "outputs": [
    {
     "name": "stdout",
     "output_type": "stream",
     "text": [
      "https://api.github.com/repositories/81598961/commits?page=3297\n"
     ]
    },
    {
     "data": {
      "text/plain": [
       "{'author': {'date': '1990-08-09T14:25:15Z',\n",
       "  'email': 'guido@python.org',\n",
       "  'name': 'Guido van Rossum'},\n",
       " 'comment_count': 0,\n",
       " 'committer': {'date': '1990-08-09T14:25:15Z',\n",
       "  'email': 'guido@python.org',\n",
       "  'name': 'Guido van Rossum'},\n",
       " 'message': 'Initial revision',\n",
       " 'tree': {'sha': '52384aa82c1f7785424544fc3ee003729b07ac12',\n",
       "  'url': 'https://api.github.com/repos/python/cpython/git/trees/52384aa82c1f7785424544fc3ee003729b07ac12'},\n",
       " 'url': 'https://api.github.com/repos/python/cpython/git/commits/7f777ed95a19224294949e1b4ce56bbffcb1fe9f'}"
      ]
     },
     "execution_count": 81,
     "metadata": {},
     "output_type": "execute_result"
    }
   ],
   "source": [
    "print (links[1].split('>')[0].split('<')[1])\n",
    "last_page_url = links[1].split('>')[0].split('<')[1]\n",
    "r_last = requests.get(last_page_url)\n"
   ]
  },
  {
   "cell_type": "code",
   "execution_count": 87,
   "metadata": {
    "collapsed": false
   },
   "outputs": [
    {
     "data": {
      "text/plain": [
       "3"
      ]
     },
     "execution_count": 87,
     "metadata": {},
     "output_type": "execute_result"
    }
   ],
   "source": [
    "len(r_last.json())\n"
   ]
  },
  {
   "cell_type": "code",
   "execution_count": 89,
   "metadata": {
    "collapsed": false
   },
   "outputs": [
    {
     "name": "stdout",
     "output_type": "stream",
     "text": [
      "{'author': {'name': 'Guido van Rossum', 'email': 'guido@python.org', 'date': '1990-08-09T14:25:15Z'}, 'committer': {'name': 'Guido van Rossum', 'email': 'guido@python.org', 'date': '1990-08-09T14:25:15Z'}, 'message': 'Initial revision', 'tree': {'sha': '52384aa82c1f7785424544fc3ee003729b07ac12', 'url': 'https://api.github.com/repos/python/cpython/git/trees/52384aa82c1f7785424544fc3ee003729b07ac12'}, 'url': 'https://api.github.com/repos/python/cpython/git/commits/7f777ed95a19224294949e1b4ce56bbffcb1fe9f', 'comment_count': 0}\n"
     ]
    }
   ],
   "source": [
    "first_commit = r_last.json()[2]['commit']\n",
    "print (first_commit)"
   ]
  },
  {
   "cell_type": "code",
   "execution_count": 90,
   "metadata": {
    "collapsed": false
   },
   "outputs": [
    {
     "data": {
      "text/plain": [
       "{'author': {'date': '1990-08-09T14:25:15Z',\n",
       "  'email': 'guido@python.org',\n",
       "  'name': 'Guido van Rossum'},\n",
       " 'comment_count': 0,\n",
       " 'committer': {'date': '1990-08-09T14:25:15Z',\n",
       "  'email': 'guido@python.org',\n",
       "  'name': 'Guido van Rossum'},\n",
       " 'message': 'Initial revision',\n",
       " 'tree': {'sha': '52384aa82c1f7785424544fc3ee003729b07ac12',\n",
       "  'url': 'https://api.github.com/repos/python/cpython/git/trees/52384aa82c1f7785424544fc3ee003729b07ac12'},\n",
       " 'url': 'https://api.github.com/repos/python/cpython/git/commits/7f777ed95a19224294949e1b4ce56bbffcb1fe9f'}"
      ]
     },
     "execution_count": 90,
     "metadata": {},
     "output_type": "execute_result"
    }
   ],
   "source": [
    "first_commit"
   ]
  },
  {
   "cell_type": "code",
   "execution_count": 91,
   "metadata": {
    "collapsed": false
   },
   "outputs": [
    {
     "data": {
      "text/plain": [
       "'https://api.github.com/repos/python/cpython/git/commits/7f777ed95a19224294949e1b4ce56bbffcb1fe9f'"
      ]
     },
     "execution_count": 91,
     "metadata": {},
     "output_type": "execute_result"
    }
   ],
   "source": [
    "first_commit['url']"
   ]
  },
  {
   "cell_type": "code",
   "execution_count": 92,
   "metadata": {
    "collapsed": true
   },
   "outputs": [],
   "source": [
    "r_first_commit = requests.get(first_commit['url'])"
   ]
  },
  {
   "cell_type": "code",
   "execution_count": 93,
   "metadata": {
    "collapsed": false
   },
   "outputs": [
    {
     "data": {
      "text/plain": [
       "{'author': {'date': '1990-08-09T14:25:15Z',\n",
       "  'email': 'guido@python.org',\n",
       "  'name': 'Guido van Rossum'},\n",
       " 'committer': {'date': '1990-08-09T14:25:15Z',\n",
       "  'email': 'guido@python.org',\n",
       "  'name': 'Guido van Rossum'},\n",
       " 'html_url': 'https://github.com/python/cpython/commit/7f777ed95a19224294949e1b4ce56bbffcb1fe9f',\n",
       " 'message': 'Initial revision',\n",
       " 'parents': [],\n",
       " 'sha': '7f777ed95a19224294949e1b4ce56bbffcb1fe9f',\n",
       " 'tree': {'sha': '52384aa82c1f7785424544fc3ee003729b07ac12',\n",
       "  'url': 'https://api.github.com/repos/python/cpython/git/trees/52384aa82c1f7785424544fc3ee003729b07ac12'},\n",
       " 'url': 'https://api.github.com/repos/python/cpython/git/commits/7f777ed95a19224294949e1b4ce56bbffcb1fe9f'}"
      ]
     },
     "execution_count": 93,
     "metadata": {},
     "output_type": "execute_result"
    }
   ],
   "source": [
    "r_first_commit.json()"
   ]
  },
  {
   "cell_type": "code",
   "execution_count": 94,
   "metadata": {
    "collapsed": false
   },
   "outputs": [
    {
     "data": {
      "text/plain": [
       "'https://github.com/python/cpython/commit/7f777ed95a19224294949e1b4ce56bbffcb1fe9f'"
      ]
     },
     "execution_count": 94,
     "metadata": {},
     "output_type": "execute_result"
    }
   ],
   "source": [
    "r_first_commit.json()['html_url']"
   ]
  },
  {
   "cell_type": "code",
   "execution_count": null,
   "metadata": {
    "collapsed": true
   },
   "outputs": [],
   "source": []
  }
 ],
 "metadata": {
  "kernelspec": {
   "display_name": "Python 3",
   "language": "python",
   "name": "python3"
  },
  "language_info": {
   "codemirror_mode": {
    "name": "ipython",
    "version": 3
   },
   "file_extension": ".py",
   "mimetype": "text/x-python",
   "name": "python",
   "nbconvert_exporter": "python",
   "pygments_lexer": "ipython3",
   "version": "3.6.0"
  }
 },
 "nbformat": 4,
 "nbformat_minor": 2
}
