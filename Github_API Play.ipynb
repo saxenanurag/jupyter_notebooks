{
 "cells": [
  {
   "cell_type": "markdown",
   "metadata": {},
   "source": [
    "# Cpython first commit\n",
    "After cypthon moved over to github, I was curious to see the first commit on cpython. Github itself is not good for such a thing, so I decided to write this down to figure out the first commit on cpython. All I needed was github api and requests. "
   ]
  },
  {
   "cell_type": "code",
   "execution_count": 1,
   "metadata": {
    "collapsed": true,
    "deletable": true,
    "editable": true
   },
   "outputs": [],
   "source": [
    "import requests"
   ]
  },
  {
   "cell_type": "code",
   "execution_count": 3,
   "metadata": {
    "collapsed": false,
    "deletable": true,
    "editable": true
   },
   "outputs": [
    {
     "data": {
      "text/plain": [
       "{'Server': 'GitHub.com', 'Date': 'Mon, 13 Mar 2017 19:55:56 GMT', 'Content-Type': 'application/json; charset=utf-8', 'Transfer-Encoding': 'chunked', 'Status': '200 OK', 'X-RateLimit-Limit': '60', 'X-RateLimit-Remaining': '58', 'X-RateLimit-Reset': '1489438539', 'Cache-Control': 'public, max-age=60, s-maxage=60', 'Vary': 'Accept, Accept-Encoding', 'ETag': 'W/\"9a6765b2afea00b1b716392f44c41df8\"', 'Last-Modified': 'Mon, 13 Mar 2017 02:51:27 GMT', 'X-GitHub-Media-Type': 'github.v3; format=json', 'Link': '<https://api.github.com/repositories/81598961/commits?page=2>; rel=\"next\", <https://api.github.com/repositories/81598961/commits?page=3297>; rel=\"last\"', 'Access-Control-Expose-Headers': 'ETag, Link, X-GitHub-OTP, X-RateLimit-Limit, X-RateLimit-Remaining, X-RateLimit-Reset, X-OAuth-Scopes, X-Accepted-OAuth-Scopes, X-Poll-Interval', 'Access-Control-Allow-Origin': '*', 'Content-Security-Policy': \"default-src 'none'\", 'Strict-Transport-Security': 'max-age=31536000; includeSubdomains; preload', 'X-Content-Type-Options': 'nosniff', 'X-Frame-Options': 'deny', 'X-XSS-Protection': '1; mode=block', 'X-Served-By': '4537b68c46a1b65b106078b0a2578ee2', 'Content-Encoding': 'gzip', 'X-GitHub-Request-Id': 'F6E8:2DE08:85EF23D:AB7343A:58C6F94B'}"
      ]
     },
     "execution_count": 3,
     "metadata": {},
     "output_type": "execute_result"
    }
   ],
   "source": [
    "github_api_url = 'https://api.github.com/repos/python/cpython/commits'\n",
    "r = requests.get(github_api_url)\n",
    "r.headers"
   ]
  },
  {
   "cell_type": "code",
   "execution_count": 5,
   "metadata": {
    "collapsed": false
   },
   "outputs": [
    {
     "data": {
      "text/plain": [
       "'<https://api.github.com/repositories/81598961/commits?page=2>; rel=\"next\", <https://api.github.com/repositories/81598961/commits?page=3297>; rel=\"last\"'"
      ]
     },
     "execution_count": 5,
     "metadata": {},
     "output_type": "execute_result"
    }
   ],
   "source": [
    "link_str = r.headers['Link']\n",
    "link_str"
   ]
  },
  {
   "cell_type": "code",
   "execution_count": 6,
   "metadata": {
    "collapsed": false,
    "deletable": true,
    "editable": true
   },
   "outputs": [
    {
     "data": {
      "text/plain": [
       "['<https://api.github.com/repositories/81598961/commits?page=2>; rel=\"next\"',\n",
       " '<https://api.github.com/repositories/81598961/commits?page=3297>; rel=\"last\"']"
      ]
     },
     "execution_count": 6,
     "metadata": {},
     "output_type": "execute_result"
    }
   ],
   "source": [
    "links = link_str.split(', ')\n",
    "links"
   ]
  },
  {
   "cell_type": "code",
   "execution_count": 7,
   "metadata": {
    "collapsed": false,
    "deletable": true,
    "editable": true
   },
   "outputs": [
    {
     "name": "stdout",
     "output_type": "stream",
     "text": [
      "https://api.github.com/repositories/81598961/commits?page=3297\n"
     ]
    }
   ],
   "source": [
    "print (links[1].split('>')[0].split('<')[1])\n",
    "last_page_url = links[1].split('>')[0].split('<')[1]\n",
    "r_last = requests.get(last_page_url)\n"
   ]
  },
  {
   "cell_type": "code",
   "execution_count": 8,
   "metadata": {
    "collapsed": false,
    "deletable": true,
    "editable": true
   },
   "outputs": [
    {
     "data": {
      "text/plain": [
       "9"
      ]
     },
     "execution_count": 8,
     "metadata": {},
     "output_type": "execute_result"
    }
   ],
   "source": [
    "len(r_last.json())\n"
   ]
  },
  {
   "cell_type": "code",
   "execution_count": 9,
   "metadata": {
    "collapsed": false,
    "deletable": true,
    "editable": true
   },
   "outputs": [
    {
     "name": "stdout",
     "output_type": "stream",
     "text": [
      "{'author': {'name': 'Guido van Rossum', 'email': 'guido@python.org', 'date': '1990-08-09T14:25:15Z'}, 'committer': {'name': 'Guido van Rossum', 'email': 'guido@python.org', 'date': '1990-08-09T14:25:15Z'}, 'message': 'Initial revision', 'tree': {'sha': '52384aa82c1f7785424544fc3ee003729b07ac12', 'url': 'https://api.github.com/repos/python/cpython/git/trees/52384aa82c1f7785424544fc3ee003729b07ac12'}, 'url': 'https://api.github.com/repos/python/cpython/git/commits/7f777ed95a19224294949e1b4ce56bbffcb1fe9f', 'comment_count': 0}\n"
     ]
    }
   ],
   "source": [
    "first_commit = r_last.json()[len(r_last.json())-1]['commit']\n",
    "print (first_commit)"
   ]
  },
  {
   "cell_type": "code",
   "execution_count": 10,
   "metadata": {
    "collapsed": false,
    "deletable": true,
    "editable": true
   },
   "outputs": [
    {
     "data": {
      "text/plain": [
       "{'author': {'date': '1990-08-09T14:25:15Z',\n",
       "  'email': 'guido@python.org',\n",
       "  'name': 'Guido van Rossum'},\n",
       " 'comment_count': 0,\n",
       " 'committer': {'date': '1990-08-09T14:25:15Z',\n",
       "  'email': 'guido@python.org',\n",
       "  'name': 'Guido van Rossum'},\n",
       " 'message': 'Initial revision',\n",
       " 'tree': {'sha': '52384aa82c1f7785424544fc3ee003729b07ac12',\n",
       "  'url': 'https://api.github.com/repos/python/cpython/git/trees/52384aa82c1f7785424544fc3ee003729b07ac12'},\n",
       " 'url': 'https://api.github.com/repos/python/cpython/git/commits/7f777ed95a19224294949e1b4ce56bbffcb1fe9f'}"
      ]
     },
     "execution_count": 10,
     "metadata": {},
     "output_type": "execute_result"
    }
   ],
   "source": [
    "first_commit"
   ]
  },
  {
   "cell_type": "code",
   "execution_count": 11,
   "metadata": {
    "collapsed": false,
    "deletable": true,
    "editable": true
   },
   "outputs": [
    {
     "data": {
      "text/plain": [
       "'https://api.github.com/repos/python/cpython/git/commits/7f777ed95a19224294949e1b4ce56bbffcb1fe9f'"
      ]
     },
     "execution_count": 11,
     "metadata": {},
     "output_type": "execute_result"
    }
   ],
   "source": [
    "first_commit['url']"
   ]
  },
  {
   "cell_type": "code",
   "execution_count": 12,
   "metadata": {
    "collapsed": true,
    "deletable": true,
    "editable": true
   },
   "outputs": [],
   "source": [
    "r_first_commit = requests.get(first_commit['url'])"
   ]
  },
  {
   "cell_type": "code",
   "execution_count": 13,
   "metadata": {
    "collapsed": false,
    "deletable": true,
    "editable": true
   },
   "outputs": [
    {
     "data": {
      "text/plain": [
       "{'author': {'date': '1990-08-09T14:25:15Z',\n",
       "  'email': 'guido@python.org',\n",
       "  'name': 'Guido van Rossum'},\n",
       " 'committer': {'date': '1990-08-09T14:25:15Z',\n",
       "  'email': 'guido@python.org',\n",
       "  'name': 'Guido van Rossum'},\n",
       " 'html_url': 'https://github.com/python/cpython/commit/7f777ed95a19224294949e1b4ce56bbffcb1fe9f',\n",
       " 'message': 'Initial revision',\n",
       " 'parents': [],\n",
       " 'sha': '7f777ed95a19224294949e1b4ce56bbffcb1fe9f',\n",
       " 'tree': {'sha': '52384aa82c1f7785424544fc3ee003729b07ac12',\n",
       "  'url': 'https://api.github.com/repos/python/cpython/git/trees/52384aa82c1f7785424544fc3ee003729b07ac12'},\n",
       " 'url': 'https://api.github.com/repos/python/cpython/git/commits/7f777ed95a19224294949e1b4ce56bbffcb1fe9f'}"
      ]
     },
     "execution_count": 13,
     "metadata": {},
     "output_type": "execute_result"
    }
   ],
   "source": [
    "r_first_commit.json()"
   ]
  },
  {
   "cell_type": "code",
   "execution_count": 14,
   "metadata": {
    "collapsed": false,
    "deletable": true,
    "editable": true
   },
   "outputs": [
    {
     "data": {
      "text/plain": [
       "'https://github.com/python/cpython/commit/7f777ed95a19224294949e1b4ce56bbffcb1fe9f'"
      ]
     },
     "execution_count": 14,
     "metadata": {},
     "output_type": "execute_result"
    }
   ],
   "source": [
    "r_first_commit.json()['html_url']"
   ]
  },
  {
   "cell_type": "code",
   "execution_count": null,
   "metadata": {
    "collapsed": true,
    "deletable": true,
    "editable": true
   },
   "outputs": [],
   "source": []
  }
 ],
 "metadata": {
  "kernelspec": {
   "display_name": "Python 3",
   "language": "python",
   "name": "python3"
  },
  "language_info": {
   "codemirror_mode": {
    "name": "ipython",
    "version": 3
   },
   "file_extension": ".py",
   "mimetype": "text/x-python",
   "name": "python",
   "nbconvert_exporter": "python",
   "pygments_lexer": "ipython3",
   "version": "3.6.0"
  }
 },
 "nbformat": 4,
 "nbformat_minor": 2
}
